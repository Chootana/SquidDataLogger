{
 "nbformat": 4,
 "nbformat_minor": 2,
 "metadata": {
  "language_info": {
   "name": "python",
   "codemirror_mode": {
    "name": "ipython",
    "version": 3
   }
  },
  "orig_nbformat": 2,
  "file_extension": ".py",
  "mimetype": "text/x-python",
  "name": "python",
  "npconvert_exporter": "python",
  "pygments_lexer": "ipython3",
  "version": 3
 },
 "cells": [
  {
   "cell_type": "code",
   "execution_count": 1,
   "metadata": {},
   "outputs": [],
   "source": []
  },
  {
   "cell_type": "code",
   "execution_count": 2,
   "metadata": {},
   "outputs": [],
   "source": []
  },
  {
   "cell_type": "code",
   "execution_count": 6,
   "metadata": {},
   "outputs": [
    {
     "name": "stdout",
     "output_type": "stream",
     "text": "dict_keys(['battle_number', 'crown_players', 'elapsed_time', 'estimate_gachi_power', 'estimate_x_power', 'game_mode', 'my_team_count', 'my_team_members', 'my_team_result', 'other_team_count', 'other_team_members', 'other_team_result', 'player_rank', 'player_result', 'rank', 'rule', 'stage', 'star_rank', 'start_time', 'type', 'udemae', 'weapon_paint_point', 'x_power'])\n"
    }
   ],
   "source": [
    "print(data.keys())"
   ]
  },
  {
   "cell_type": "code",
   "execution_count": 18,
   "metadata": {},
   "outputs": [
    {
     "name": "stdout",
     "output_type": "stream",
     "text": "8812\nガチマッチ\nガチホコバトル\nザトウマーケット\n2190\nLOSE…\n0\n"
    }
   ],
   "source": [
    "print(data['battle_number'])\n",
    "print(data['game_mode']['name'])\n",
    "print(data['rule']['name'])\n",
    "print(data['stage']['name'])\n",
    "print(data['estimate_x_power'])\n",
    "print(data['my_team_result']['name'])\n",
    "print(data['my_team_count'])"
   ]
  },
  {
   "cell_type": "code",
   "execution_count": 27,
   "metadata": {},
   "outputs": [
    {
     "name": "stdout",
     "output_type": "stream",
     "text": "assist_count\ndeath_count\ngame_paint_point\nkill_count\nplayer\nsort_score\nspecial_count\n"
    }
   ],
   "source": [
    "for key in data['player_result'].keys():\n",
    "    print(key)"
   ]
  },
  {
   "cell_type": "code",
   "execution_count": 43,
   "metadata": {},
   "outputs": [
    {
     "name": "stdout",
     "output_type": "stream",
     "text": "ちゅーたな\nN-ZAP85\nインクアーマー\nキューバンボム\n2\n2\n2\n2\n485\n"
    }
   ],
   "source": [
    "print(data['player_result']['player']['nickname'])\n",
    "print(data['player_result']['player']['weapon']['name'])\n",
    "print(data['player_result']['player']['weapon']['special']['name'])\n",
    "print(data['player_result']['player']['weapon']['sub']['name'])\n",
    "print(data['player_result']['kill_count'])\n",
    "print(data['player_result']['assist_count'])\n",
    "print(data['player_result']['death_count'])\n",
    "print(data['player_result']['special_count'])\n",
    "print(data['player_result']['game_paint_point'])"
   ]
  },
  {
   "cell_type": "code",
   "execution_count": 60,
   "metadata": {},
   "outputs": [
    {
     "name": "stdout",
     "output_type": "stream",
     "text": "くお\nおちばシューター\nバブルランチャー\nトーピード\n1\n1\n3\n1\n322\nyuki\nスプラローラー\nスーパーチャクチ\nカーリングボム\n0\n0\n3\n1\n421\nしばいぬ\nスパッタリー\nキューバンボムピッチャー\nジャンプビーコン\n1\n1\n5\n0\n249\n"
    }
   ],
   "source": [
    "for name in data['my_team_members']:\n",
    "    print(name['player']['nickname'])\n",
    "    print(name['player']['weapon']['name'])\n",
    "    print(name['player']['weapon']['special']['name'])\n",
    "    print(name['player']['weapon']['sub']['name'])\n",
    "    print(name['kill_count'])\n",
    "    print(name['assist_count'])\n",
    "    print(name['death_count'])\n",
    "    print(name['special_count'])\n",
    "    print(name['game_paint_point'])"
   ]
  },
  {
   "cell_type": "code",
   "execution_count": null,
   "metadata": {},
   "outputs": [],
   "source": [
    "print(data['battle_number'])\n",
    "print(data['game_mode']['name'])\n",
    "print(data['rule']['name'])\n",
    "print(data['stage']['name'])\n",
    "print(data['estimate_x_power'])\n",
    "print(data['my_team_result']['name'])\n",
    "print(data['my_team_count'])"
   ]
  }
 ]
}