{
  "nbformat": 4,
  "nbformat_minor": 0,
  "metadata": {
    "colab": {
      "name": "Untitled3.ipynb",
      "provenance": [],
      "collapsed_sections": [],
      "include_colab_link": true
    },
    "kernelspec": {
      "name": "python3",
      "display_name": "Python 3"
    },
    "accelerator": "GPU"
  },
  "cells": [
    {
      "cell_type": "markdown",
      "metadata": {
        "id": "view-in-github",
        "colab_type": "text"
      },
      "source": [
        "<a href=\"https://colab.research.google.com/github/Chootana/SquidDataLogger/blob/master/Untitled3.ipynb\" target=\"_parent\"><img src=\"https://colab.research.google.com/assets/colab-badge.svg\" alt=\"Open In Colab\"/></a>"
      ]
    },
    {
      "cell_type": "code",
      "metadata": {
        "id": "sUBfIoqOco7w",
        "colab_type": "code",
        "colab": {
          "base_uri": "https://localhost:8080/",
          "height": 221
        },
        "outputId": "295d27b1-f1c5-4f3b-a206-97c73c55c831"
      },
      "source": [
        "!curl https://colab.chainer.org/install | sh -"
      ],
      "execution_count": 75,
      "outputs": [
        {
          "output_type": "stream",
          "text": [
            "  % Total    % Received % Xferd  Average Speed   Time    Time     Time  Current\n",
            "                                 Dload  Upload   Total   Spent    Left  Speed\n",
            "\r  0     0    0     0    0     0      0      0 --:--:-- --:--:-- --:--:--     0\r100  1580  100  1580    0     0   6638      0 --:--:-- --:--:-- --:--:--  6638\n",
            "+ apt -y -q install cuda-libraries-dev-10-0\n",
            "Reading package lists...\n",
            "Building dependency tree...\n",
            "Reading state information...\n",
            "cuda-libraries-dev-10-0 is already the newest version (10.0.130-1).\n",
            "0 upgraded, 0 newly installed, 0 to remove and 35 not upgraded.\n",
            "+ pip install -q cupy-cuda100  chainer \n",
            "+ set +ex\n",
            "Installation succeeded!\n"
          ],
          "name": "stdout"
        }
      ]
    },
    {
      "cell_type": "code",
      "metadata": {
        "id": "-6JzqATdc8gW",
        "colab_type": "code",
        "colab": {}
      },
      "source": [
        "import chainer\n",
        "import chainer.links as L\n",
        "import chainer.functions as F\n",
        "from sklearn.preprocessing import StandardScaler\n",
        "import cupy as cp\n",
        "import numpy as np\n",
        "import pandas as pd\n",
        "import matplotlib.pyplot as plt"
      ],
      "execution_count": 0,
      "outputs": []
    },
    {
      "cell_type": "code",
      "metadata": {
        "id": "_x7t6kONdzQk",
        "colab_type": "code",
        "colab": {
          "base_uri": "https://localhost:8080/",
          "height": 51
        },
        "outputId": "117603a5-6a7c-4186-e234-a7dca2312482"
      },
      "source": [
        "print('GPU availability:', chainer.cuda.available)\n",
        "print('cuDNN availablility:', chainer.cuda.cudnn_enabled)"
      ],
      "execution_count": 77,
      "outputs": [
        {
          "output_type": "stream",
          "text": [
            "GPU availability: True\n",
            "cuDNN availablility: True\n"
          ],
          "name": "stdout"
        }
      ]
    },
    {
      "cell_type": "code",
      "metadata": {
        "id": "nHdvaS3Qfc1B",
        "colab_type": "code",
        "colab": {
          "base_uri": "https://localhost:8080/",
          "height": 272
        },
        "outputId": "ce004b8d-557a-4d68-9dd7-44562105d4ea"
      },
      "source": [
        "chainer.print_runtime_info()"
      ],
      "execution_count": 78,
      "outputs": [
        {
          "output_type": "stream",
          "text": [
            "Platform: Linux-4.14.137+-x86_64-with-Ubuntu-18.04-bionic\n",
            "Chainer: 6.5.0\n",
            "ChainerX: Not Available\n",
            "NumPy: 1.17.4\n",
            "CuPy:\n",
            "  CuPy Version          : 6.5.0\n",
            "  CUDA Root             : /usr/local/cuda\n",
            "  CUDA Build Version    : 10000\n",
            "  CUDA Driver Version   : 10010\n",
            "  CUDA Runtime Version  : 10000\n",
            "  cuDNN Build Version   : 7603\n",
            "  cuDNN Version         : 7603\n",
            "  NCCL Build Version    : 2402\n",
            "  NCCL Runtime Version  : 2402\n",
            "iDeep: 2.0.0.post3\n"
          ],
          "name": "stdout"
        }
      ]
    },
    {
      "cell_type": "code",
      "metadata": {
        "id": "n1fIM20we2FH",
        "colab_type": "code",
        "colab": {
          "base_uri": "https://localhost:8080/",
          "height": 88
        },
        "outputId": "2ae94c4b-5434-459f-97ac-3713f0649861"
      },
      "source": [
        "from google.colab import drive\n",
        "drive.mount('/content/drive')\n",
        "df = pd.read_csv('/content/drive/My Drive/Colab Notebooks/data/ikaWidgetCSV_20191115190544_akazukin.tcsv')"
      ],
      "execution_count": 79,
      "outputs": [
        {
          "output_type": "stream",
          "text": [
            "Drive already mounted at /content/drive; to attempt to forcibly remount, call drive.mount(\"/content/drive\", force_remount=True).\n"
          ],
          "name": "stdout"
        },
        {
          "output_type": "stream",
          "text": [
            "/usr/local/lib/python3.6/dist-packages/IPython/core/interactiveshell.py:2718: DtypeWarning: Columns (83,85,101,117,269,270,272,273,274,275,276,277,278,279,280,281,282,283,284,285,287,289,291,293,295,297,299,301,303,309,311,313,315,317,319,325,327,329,331,333,335,565,566,568,569,570,571,572,573,574,575,576,577,578,579,580,581,583,585,587,589,591,593,595,597,599,605,607,609,611,613,615,621,623,625,627,629,631) have mixed types. Specify dtype option on import or set low_memory=False.\n",
            "  interactivity=interactivity, compiler=compiler, result=result)\n"
          ],
          "name": "stderr"
        }
      ]
    },
    {
      "cell_type": "code",
      "metadata": {
        "id": "3W_Z3J4HfeWB",
        "colab_type": "code",
        "colab": {}
      },
      "source": [
        "df_battle = df.loc[:,['playerKill', 'playerAssist', 'playerDeath', 'playerSpecial', 'playerPaintPoint', 'win']]"
      ],
      "execution_count": 0,
      "outputs": []
    },
    {
      "cell_type": "code",
      "metadata": {
        "id": "njMEbFrOg4TM",
        "colab_type": "code",
        "colab": {
          "base_uri": "https://localhost:8080/",
          "height": 255
        },
        "outputId": "6f7c982e-ee1d-45c0-cafc-616f9b2289d1"
      },
      "source": [
        "df_battle.describe"
      ],
      "execution_count": 81,
      "outputs": [
        {
          "output_type": "execute_result",
          "data": {
            "text/plain": [
              "<bound method NDFrame.describe of       playerKill  playerAssist  ...  playerPaintPoint  win\n",
              "0              3             2  ...               705    1\n",
              "1              2             2  ...               972    0\n",
              "2              8             2  ...               942    1\n",
              "3              5             0  ...               448    1\n",
              "4             12             3  ...              1056    0\n",
              "...          ...           ...  ...               ...  ...\n",
              "3875           2             3  ...               663    1\n",
              "3876           5             3  ...              1305    1\n",
              "3877           3             3  ...              1159    0\n",
              "3878           6             3  ...              1360    1\n",
              "3879           3             2  ...              1493    0\n",
              "\n",
              "[3880 rows x 6 columns]>"
            ]
          },
          "metadata": {
            "tags": []
          },
          "execution_count": 81
        }
      ]
    },
    {
      "cell_type": "code",
      "metadata": {
        "id": "o_u13l2KiQa-",
        "colab_type": "code",
        "colab": {
          "base_uri": "https://localhost:8080/",
          "height": 34
        },
        "outputId": "318d74cd-4516-4089-faa1-9edb01725b14"
      },
      "source": [
        "\n",
        "x = df_battle.iloc[:, :-1].values.astype('float32')\n",
        "t = df_battle.iloc[:, -1].values.astype('int32')\n",
        "\n",
        "type(x)"
      ],
      "execution_count": 82,
      "outputs": [
        {
          "output_type": "execute_result",
          "data": {
            "text/plain": [
              "numpy.ndarray"
            ]
          },
          "metadata": {
            "tags": []
          },
          "execution_count": 82
        }
      ]
    },
    {
      "cell_type": "code",
      "metadata": {
        "id": "95aji9E4heCW",
        "colab_type": "code",
        "colab": {}
      },
      "source": [
        "scaler = StandardScaler()\n",
        "scaler.fit(x)\n",
        "\n",
        "x_scaled = scaler.transform(x)"
      ],
      "execution_count": 0,
      "outputs": []
    },
    {
      "cell_type": "code",
      "metadata": {
        "id": "Szd86pIUj_bs",
        "colab_type": "code",
        "colab": {}
      },
      "source": [
        "dataset = list(zip(x, t))\n",
        "\n",
        "train_valid, test = chainer.datasets.split_dataset_random(dataset, int(len(dataset)*0.7), seed=0)\n",
        "train, valid = chainer.datasets.split_dataset_random(train_valid, int(len(train_valid)*0.7), seed=0)"
      ],
      "execution_count": 0,
      "outputs": []
    },
    {
      "cell_type": "code",
      "metadata": {
        "id": "EA15tZkJIY5_",
        "colab_type": "code",
        "colab": {}
      },
      "source": [
        "class Net(chainer.Chain):\n",
        "    def __init__(self, n_in=4, n_hidden=3, n_out=3):\n",
        "        super().__init__()\n",
        "        with self.init_scope():\n",
        "            self.l1 = L.Linear(n_in, n_hidden)\n",
        "            self.l2 = L.Linear(n_hidden, n_hidden)\n",
        "            self.l3 = L.Linear(n_hidden, n_out)\n",
        "\n",
        "    def forward(self, x):\n",
        "        h = F.relu(self.l1(x))\n",
        "        h = F.relu(self.l2(h))\n",
        "        h = self.l3(h)\n",
        "\n",
        "        return h"
      ],
      "execution_count": 0,
      "outputs": []
    },
    {
      "cell_type": "code",
      "metadata": {
        "id": "MGovnIuEkhLj",
        "colab_type": "code",
        "colab": {}
      },
      "source": [
        "net = Net(n_in=5, n_hidden=100, n_out=2)\n",
        "optimizer = chainer.optimizers.MomentumSGD(lr=0.001, momentum=0.9)\n",
        "optimizer.setup(net)\n",
        "\n",
        "for param in net.params():\n",
        "    if param.name != 'b':\n",
        "        param.update_rule.add_hook(chainer.optimizer_hooks.WeightDecay(0.001))"
      ],
      "execution_count": 0,
      "outputs": []
    },
    {
      "cell_type": "code",
      "metadata": {
        "id": "VISUfRixI-81",
        "colab_type": "code",
        "colab": {}
      },
      "source": [
        "train_iter = chainer.iterators.SerialIterator(train, batch_size=4, repeat=True, shuffle=True)\n",
        "minibatch = train_iter.next()"
      ],
      "execution_count": 0,
      "outputs": []
    },
    {
      "cell_type": "code",
      "metadata": {
        "id": "TqhElTWhH8cf",
        "colab_type": "code",
        "colab": {
          "base_uri": "https://localhost:8080/",
          "height": 887
        },
        "outputId": "b2027040-1498-4206-e361-7f59aa9eb7c6"
      },
      "source": [
        "gpu_id = 0\n",
        "n_batch = 64\n",
        "n_epoch = 50\n",
        "\n",
        "net.to_gpu(gpu_id)\n",
        "\n",
        "results_train, results_valid = {}, {}\n",
        "results_train['loss'], results_train['accuracy'] = [], []\n",
        "results_valid['loss'], results_valid['accuracy'] = [], []\n",
        "\n",
        "train_iter.reset()\n",
        "\n",
        "count = 1\n",
        "\n",
        "for epoch in range(n_epoch):\n",
        "\n",
        "    while True:\n",
        "\n",
        "        train_batch = train_iter.next()\n",
        "\n",
        "        x_train, t_train = chainer.dataset.concat_examples(train_batch, gpu_id)\n",
        "\n",
        "        y_train = net(x_train)\n",
        "        loss_train = F.softmax_cross_entropy(y_train, t_train)\n",
        "        acc_train = F.accuracy(y_train, t_train)\n",
        "\n",
        "        net.cleargrads()\n",
        "        loss_train.backward()\n",
        "\n",
        "        optimizer.update()\n",
        "\n",
        "        count += 1\n",
        "\n",
        "        if train_iter.is_new_epoch:\n",
        "            with chainer.using_config('train', False), chainer.using_config('enable_backprop', False):\n",
        "                x_valid, t_valid = chainer.dataset.concat_examples(valid, gpu_id)\n",
        "                y_valid = net(x_valid)\n",
        "                loss_valid = F.softmax_cross_entropy(y_valid, t_valid)\n",
        "                acc_valid = F.accuracy(y_valid, t_valid)\n",
        "\n",
        "            loss_train.to_cpu()\n",
        "            loss_valid.to_cpu()\n",
        "            acc_train.to_cpu()\n",
        "            acc_valid.to_cpu()\n",
        "\n",
        "            print('epoch: {}, iteration: {}, loss (train): {:.4f}, loss (valid): {:.4f}, acc (train): {:.4f}, acc (valid): {:.4f}'.format( \\\n",
        "                epoch, count, loss_train.array.mean(), loss_valid.array.mean(), acc_train.array.mean(), acc_valid.array.mean()))\n",
        "            \n",
        "            results_train['loss'].append(loss_train.array)\n",
        "            results_train['accuracy'].append(acc_train.array)\n",
        "            results_valid['loss'].append(loss_valid.array)\n",
        "            results_valid['accuracy'].append(acc_valid.array)\n",
        "\n",
        "            break"
      ],
      "execution_count": 92,
      "outputs": [
        {
          "output_type": "stream",
          "text": [
            "epoch: 0, iteration: 477, loss (train): 0.6664, loss (valid): 0.6937, acc (train): 0.7500, acc (valid): 0.5092\n",
            "epoch: 1, iteration: 952, loss (train): 0.6965, loss (valid): 0.6950, acc (train): 0.5000, acc (valid): 0.5092\n",
            "epoch: 2, iteration: 1427, loss (train): 0.6969, loss (valid): 0.6953, acc (train): 0.5000, acc (valid): 0.5092\n",
            "epoch: 3, iteration: 1902, loss (train): 0.6472, loss (valid): 0.6966, acc (train): 0.7500, acc (valid): 0.5092\n",
            "epoch: 4, iteration: 2378, loss (train): 0.6470, loss (valid): 0.6966, acc (train): 0.7500, acc (valid): 0.5092\n",
            "epoch: 5, iteration: 2853, loss (train): 0.6958, loss (valid): 0.6945, acc (train): 0.5000, acc (valid): 0.5092\n",
            "epoch: 6, iteration: 3328, loss (train): 0.6952, loss (valid): 0.6940, acc (train): 0.5000, acc (valid): 0.5092\n",
            "epoch: 7, iteration: 3803, loss (train): 0.7360, loss (valid): 0.6948, acc (train): 0.2500, acc (valid): 0.5092\n",
            "epoch: 8, iteration: 4279, loss (train): 0.6550, loss (valid): 0.6951, acc (train): 0.7500, acc (valid): 0.5092\n",
            "epoch: 9, iteration: 4754, loss (train): 0.6581, loss (valid): 0.6946, acc (train): 0.7500, acc (valid): 0.5092\n",
            "epoch: 10, iteration: 5229, loss (train): 0.6139, loss (valid): 0.6951, acc (train): 1.0000, acc (valid): 0.5092\n",
            "epoch: 11, iteration: 5704, loss (train): 0.6971, loss (valid): 0.6954, acc (train): 0.5000, acc (valid): 0.5092\n",
            "epoch: 12, iteration: 6180, loss (train): 0.6119, loss (valid): 0.6952, acc (train): 1.0000, acc (valid): 0.5092\n",
            "epoch: 13, iteration: 6655, loss (train): 0.6519, loss (valid): 0.6956, acc (train): 0.7500, acc (valid): 0.5092\n",
            "epoch: 14, iteration: 7130, loss (train): 0.6529, loss (valid): 0.6955, acc (train): 0.7500, acc (valid): 0.5092\n",
            "epoch: 15, iteration: 7605, loss (train): 0.6953, loss (valid): 0.6941, acc (train): 0.5000, acc (valid): 0.5092\n",
            "epoch: 16, iteration: 8081, loss (train): 0.7417, loss (valid): 0.6954, acc (train): 0.2500, acc (valid): 0.5092\n",
            "epoch: 17, iteration: 8556, loss (train): 0.7414, loss (valid): 0.6954, acc (train): 0.2500, acc (valid): 0.5092\n",
            "epoch: 18, iteration: 9031, loss (train): 0.6947, loss (valid): 0.6937, acc (train): 0.5000, acc (valid): 0.5092\n",
            "epoch: 19, iteration: 9506, loss (train): 0.6971, loss (valid): 0.6954, acc (train): 0.5000, acc (valid): 0.5092\n",
            "epoch: 20, iteration: 9982, loss (train): 0.6501, loss (valid): 0.6960, acc (train): 0.7500, acc (valid): 0.5092\n",
            "epoch: 21, iteration: 10457, loss (train): 0.7449, loss (valid): 0.6959, acc (train): 0.2500, acc (valid): 0.5092\n",
            "epoch: 22, iteration: 10932, loss (train): 0.6494, loss (valid): 0.6961, acc (train): 0.7500, acc (valid): 0.5092\n",
            "epoch: 23, iteration: 11407, loss (train): 0.6959, loss (valid): 0.6945, acc (train): 0.5000, acc (valid): 0.5092\n",
            "epoch: 24, iteration: 11883, loss (train): 0.6550, loss (valid): 0.6951, acc (train): 0.7500, acc (valid): 0.5092\n",
            "epoch: 25, iteration: 12358, loss (train): 0.6580, loss (valid): 0.6946, acc (train): 0.7500, acc (valid): 0.5092\n",
            "epoch: 26, iteration: 12833, loss (train): 0.5775, loss (valid): 0.6985, acc (train): 1.0000, acc (valid): 0.5092\n",
            "epoch: 27, iteration: 13308, loss (train): 0.6608, loss (valid): 0.6943, acc (train): 0.7500, acc (valid): 0.5092\n",
            "epoch: 28, iteration: 13784, loss (train): 0.7670, loss (valid): 0.6944, acc (train): 0.0000, acc (valid): 0.5092\n",
            "epoch: 29, iteration: 14259, loss (train): 0.6960, loss (valid): 0.6946, acc (train): 0.5000, acc (valid): 0.5092\n",
            "epoch: 30, iteration: 14734, loss (train): 0.6574, loss (valid): 0.6947, acc (train): 0.7500, acc (valid): 0.5092\n",
            "epoch: 31, iteration: 15209, loss (train): 0.6218, loss (valid): 0.6946, acc (train): 1.0000, acc (valid): 0.5092\n",
            "epoch: 32, iteration: 15685, loss (train): 0.6607, loss (valid): 0.6943, acc (train): 0.7500, acc (valid): 0.5092\n",
            "epoch: 33, iteration: 16160, loss (train): 0.6590, loss (valid): 0.6945, acc (train): 0.7500, acc (valid): 0.5092\n",
            "epoch: 34, iteration: 16635, loss (train): 0.6599, loss (valid): 0.6944, acc (train): 0.7500, acc (valid): 0.5092\n",
            "epoch: 35, iteration: 17110, loss (train): 0.6957, loss (valid): 0.6943, acc (train): 0.5000, acc (valid): 0.5092\n",
            "epoch: 36, iteration: 17586, loss (train): 0.6560, loss (valid): 0.6949, acc (train): 0.7500, acc (valid): 0.5092\n",
            "epoch: 37, iteration: 18061, loss (train): 0.6948, loss (valid): 0.6937, acc (train): 0.5000, acc (valid): 0.5092\n",
            "epoch: 38, iteration: 18536, loss (train): 0.6943, loss (valid): 0.6934, acc (train): 0.5000, acc (valid): 0.5092\n",
            "epoch: 39, iteration: 19011, loss (train): 0.6965, loss (valid): 0.6950, acc (train): 0.5000, acc (valid): 0.5092\n",
            "epoch: 40, iteration: 19487, loss (train): 0.6984, loss (valid): 0.6965, acc (train): 0.5000, acc (valid): 0.5092\n",
            "epoch: 41, iteration: 19962, loss (train): 0.6556, loss (valid): 0.6949, acc (train): 0.7500, acc (valid): 0.5092\n",
            "epoch: 42, iteration: 20437, loss (train): 0.6971, loss (valid): 0.6954, acc (train): 0.5000, acc (valid): 0.5092\n",
            "epoch: 43, iteration: 20912, loss (train): 0.6981, loss (valid): 0.6963, acc (train): 0.5000, acc (valid): 0.5092\n",
            "epoch: 44, iteration: 21388, loss (train): 0.6658, loss (valid): 0.6938, acc (train): 0.7500, acc (valid): 0.5092\n",
            "epoch: 45, iteration: 21863, loss (train): 0.7327, loss (valid): 0.6945, acc (train): 0.2500, acc (valid): 0.5092\n",
            "epoch: 46, iteration: 22338, loss (train): 0.6589, loss (valid): 0.6945, acc (train): 0.7500, acc (valid): 0.5092\n",
            "epoch: 47, iteration: 22813, loss (train): 0.6961, loss (valid): 0.6948, acc (train): 0.5000, acc (valid): 0.5092\n",
            "epoch: 48, iteration: 23289, loss (train): 0.6965, loss (valid): 0.6950, acc (train): 0.5000, acc (valid): 0.5092\n",
            "epoch: 49, iteration: 23764, loss (train): 0.6604, loss (valid): 0.6943, acc (train): 0.7500, acc (valid): 0.5092\n"
          ],
          "name": "stdout"
        }
      ]
    },
    {
      "cell_type": "code",
      "metadata": {
        "id": "nzxt_3tANu-w",
        "colab_type": "code",
        "colab": {
          "base_uri": "https://localhost:8080/",
          "height": 516
        },
        "outputId": "4e1e92ee-b245-4a95-c2f5-e77a64e2c5a0"
      },
      "source": [
        "plt.plot(results_train['loss'], label='train')\n",
        "plt.plot(results_valid['loss'], label='valid')\n",
        "plt.legend()\n",
        "plt.show()\n",
        "\n",
        "plt.plot(results_train['accuracy'], label='train')\n",
        "plt.plot(results_valid['accuracy'], label='valid')\n",
        "plt.legend()\n",
        "plt.show()"
      ],
      "execution_count": 95,
      "outputs": [
        {
          "output_type": "display_data",
          "data": {
            "image/png": "[encoded data removed]",
            "text/plain": [
              "<Figure size 432x288 with 1 Axes>"
            ]
          },
          "metadata": {
            "tags": []
          }
        },
        {
          "output_type": "display_data",
          "data": {
            "image/png": "[encoded data removed]",
            "text/plain": [
              "<Figure size 432x288 with 1 Axes>"
            ]
          },
          "metadata": {
            "tags": []
          }
        }
      ]
    }
  ]
}